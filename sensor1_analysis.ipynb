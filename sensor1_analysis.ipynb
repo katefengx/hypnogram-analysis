{
 "cells": [
  {
   "cell_type": "code",
   "execution_count": null,
   "metadata": {},
   "outputs": [],
   "source": [
    "import json\n",
    "import pandas as pd\n",
    "import numpy as np\n",
    "import matplotlib.pyplot as mpl\n",
    "\n",
    "# importing file for analysis\n",
    "json_file = './data/sensor1_sleep.json'\n",
    "\n",
    "with open(json_file, 'r') as infile:\n",
    "  json_data = json.load(infile)"
   ]
  },
  {
   "cell_type": "code",
   "execution_count": null,
   "metadata": {},
   "outputs": [],
   "source": [
    "type(json_data)"
   ]
  },
  {
   "cell_type": "code",
   "execution_count": null,
   "metadata": {},
   "outputs": [],
   "source": [
    "for element in json_data:\n",
    "  print(element)"
   ]
  },
  {
   "cell_type": "code",
   "execution_count": null,
   "metadata": {},
   "outputs": [],
   "source": [
    "type(json_data['sleep'])"
   ]
  },
  {
   "cell_type": "code",
   "execution_count": null,
   "metadata": {},
   "outputs": [],
   "source": [
    "first_element = json_data['sleep'][0]\n",
    "first_element"
   ]
  },
  {
   "cell_type": "code",
   "execution_count": null,
   "metadata": {},
   "outputs": [],
   "source": [
    "# find the element related to the day of interest\n",
    "\n",
    "days = len(json_data['sleep'])\n",
    "days"
   ]
  },
  {
   "cell_type": "code",
   "execution_count": null,
   "metadata": {},
   "outputs": [],
   "source": [
    "for i in range(days):\n",
    "    print(json_data['sleep'][i]['bedtime_end'])"
   ]
  },
  {
   "cell_type": "markdown",
   "metadata": {},
   "source": [
    "## find time the participant went to bed, and when they woke up \n"
   ]
  },
  {
   "cell_type": "code",
   "execution_count": null,
   "metadata": {},
   "outputs": [],
   "source": [
    "night_index = 2\n",
    "print('Night starts at: '+json_data['sleep'][night_index]['bedtime_start'])\n",
    "print('Night end at: '+json_data['sleep'][night_index]['bedtime_end'])"
   ]
  },
  {
   "cell_type": "code",
   "execution_count": null,
   "metadata": {},
   "outputs": [],
   "source": [
    "# total time in bed\n",
    "\n",
    "start = json_data['sleep'][night_index]['bedtime_start']\n",
    "end = json_data['sleep'][night_index]['bedtime_end']\n",
    "\n",
    "start_hour = int(start.split('T')[1][:2])\n",
    "end_hour = int(end.split('T')[1][:2])\n",
    "\n",
    "total_time = 24-start_hour + end_hour\n",
    "total_time"
   ]
  },
  {
   "cell_type": "code",
   "execution_count": null,
   "metadata": {},
   "outputs": [],
   "source": [
    "# extract the hypnogram !\n",
    "\n",
    "#'1' = deep (N3) sleep - '2' = light (N1 or N2) sleep - '3' = REM sleep - '4' = awake\n",
    "dic_sleep = {'wake':4 , 'deep':1, 'light':2 , 'rem':3}\n",
    "\n",
    "hypno_js = json_data['sleep'][night_index]['hypnogram_5min']\n",
    "\n",
    "hypno = np.array(list(hypno_js)) \n",
    "\n",
    "# we have 1 value every 5 minutes; we need 1 value every 30 seconds (to compare it with gold standard)\n",
    "# let's have each element repeated 10 times (2 per minute)\n",
    "hypno = np.repeat(hypno,10)\n",
    "hypno = hypno.astype(int)\n",
    "\n",
    "# hypno is multiple lists that show the phase every 30 seconds\n",
    "hypno"
   ]
  },
  {
   "cell_type": "code",
   "execution_count": null,
   "metadata": {},
   "outputs": [],
   "source": [
    "# verify hypnogram is the right length \n",
    "len(hypno)"
   ]
  },
  {
   "cell_type": "code",
   "execution_count": null,
   "metadata": {},
   "outputs": [],
   "source": [
    "# write down the hypnogram to export,\n",
    "total_number_30sec_int = 7*60*2\n",
    "\n",
    "df = pd.DataFrame(columns = ['IndexTime','SleepPhase'])\n",
    "df['IndexTime'] = range(total_number_30sec_int)\n",
    "\n",
    "# cut the first and last minutes of hypno (outside the range of interest)\n",
    "minutes_before_11pm = 6\n",
    "minutes_after_6am = 9\n",
    "\n",
    "df['SleepPhase'] = hypno[minutes_before_11pm*2:-minutes_after_6am*2]"
   ]
  },
  {
   "cell_type": "code",
   "execution_count": null,
   "metadata": {},
   "outputs": [],
   "source": [
    "# save the final csv file\n",
    "df.to_csv('sensor_1_output.csv', index=False)"
   ]
  },
  {
   "cell_type": "code",
   "execution_count": null,
   "metadata": {},
   "outputs": [],
   "source": [
    "# calculate amount of sleep per phase\n",
    "# in number of intervals\n",
    "# in percentage over the 7 hours of analysis\n",
    "\n",
    "deep = df[df.get('SleepPhase') == 1].shape[0]/df.shape[0]\n",
    "light = df[df.get('SleepPhase') == 2].shape[0]/df.shape[0]\n",
    "rem = df[df.get('SleepPhase') == 3].shape[0]/df.shape[0]\n",
    "awake = df[df.get('SleepPhase') == 4].shape[0]/df.shape[0]\n",
    "\n",
    "print('deep: ' + str(deep))\n",
    "print('light: ' + str(light))\n",
    "print('rem: ' + str(rem))\n",
    "print('awake: ' + str(awake))"
   ]
  },
  {
   "cell_type": "code",
   "execution_count": null,
   "metadata": {},
   "outputs": [],
   "source": [
    "# print hypnogram\n",
    "\n",
    "def plot_hypno(signal): #,color\n",
    "  x = np.arange(len(signal))\n",
    "  y = signal\n",
    "  \n",
    "  fontsizeV = 12\n",
    "  mpl.plot(x,y) #color=color\n",
    "  mpl.xlabel('Time (30sec intervals)',fontsize=fontsizeV)\n",
    "  mpl.ylabel('Sleep phase',fontsize=fontsizeV)\n",
    "  mpl.yticks([1,2,3,4])\n",
    "  mpl.title('1=deep(N3), 2=light(N1=N2), 3=REM, 4=awake')\n",
    "  mpl.grid(True)\n",
    "  mpl.tight_layout()\n",
    "  \n",
    "plot_hypno(hypno)"
   ]
  }
 ],
 "metadata": {
  "kernelspec": {
   "display_name": "Python 3 (ipykernel)",
   "language": "python",
   "name": "python3"
  },
  "language_info": {
   "codemirror_mode": {
    "name": "ipython",
    "version": 3
   },
   "file_extension": ".py",
   "mimetype": "text/x-python",
   "name": "python",
   "nbconvert_exporter": "python",
   "pygments_lexer": "ipython3",
   "version": "3.9.5"
  }
 },
 "nbformat": 4,
 "nbformat_minor": 2
}
